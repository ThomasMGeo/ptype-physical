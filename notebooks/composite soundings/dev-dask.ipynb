{
 "cells": [
  {
   "cell_type": "code",
   "execution_count": 1,
   "id": "608ca6fd-f04c-4d7e-88dc-9917e7d95ae9",
   "metadata": {},
   "outputs": [],
   "source": [
    "import numpy as np\n",
    "import xarray as xr\n",
    "import pandas as pd\n",
    "import matplotlib.pyplot as plt\n",
    "\n",
    "from metpy.calc import dewpoint_from_relative_humidity\n",
    "from metpy.units import units\n",
    "from metpy.plots import SkewT\n",
    "\n",
    "from sounding_utils import *\n",
    "from importlib import reload\n",
    "\n",
    "from functools import partial\n",
    "\n",
    "import sys\n",
    "sys.path.append('../../') # lets us import ptype package from the subdir\n",
    "\n",
    "#import ptype.\n",
    "\n",
    "from dask.distributed import Client, LocalCluster\n",
    "from dask_jobqueue import PBSCluster\n",
    "import dask\n",
    "import glob\n",
    "from os.path import join"
   ]
  },
  {
   "cell_type": "code",
   "execution_count": 64,
   "id": "7831220b-6be2-4391-8b54-1853c9f0d000",
   "metadata": {},
   "outputs": [
    {
     "name": "stderr",
     "output_type": "stream",
     "text": [
      "/glade/work/dkimpara/conda-envs/ptype/lib/python3.10/site-packages/dask_jobqueue/pbs.py:82: FutureWarning: project has been renamed to account as this kwarg was used wit -A option. You are still using it (please also check config files). If you did not set account yet, project will be respected for now, but it will be removed in a future release. If you already set account, project is ignored and you can remove it.\n",
      "  warnings.warn(warn, FutureWarning)\n",
      "/glade/work/dkimpara/conda-envs/ptype/lib/python3.10/site-packages/distributed/node.py:182: UserWarning: Port 8787 is already in use.\n",
      "Perhaps you already have a cluster running?\n",
      "Hosting the HTTP server on port 37015 instead\n",
      "  warnings.warn(\n"
     ]
    },
    {
     "name": "stdout",
     "output_type": "stream",
     "text": [
      "Use this link to monitor the workload: https://jupyterhub.hpc.ucar.edu/stable/user/dkimpara/pux/proxy/37015/status\n"
     ]
    }
   ],
   "source": [
    "cluster = PBSCluster(account='NAML0001',\n",
    "                     queue='cheyenne',\n",
    "                     walltime='01:00:00',\n",
    "                     memory=\"200 GB\",\n",
    "                     cores=24,\n",
    "                     interface='ib0')\n",
    "\n",
    "# Change your url to the dask dashboard so you can see it\n",
    "dask.config.set({'distributed.dashboard.link':'https://jupyterhub.hpc.ucar.edu/stable/user/{USER}/proxy/{port}/status'})\n",
    "                    \n",
    "client = Client(cluster)\n",
    "cluster.scale(jobs=10, memory=\"200GB\")\n",
    "#client.shutdown()\n",
    "cluster"
   ]
  },
  {
   "cell_type": "code",
   "execution_count": 65,
   "id": "01331301-4bb8-4e3b-ba60-8ec942bc0c84",
   "metadata": {},
   "outputs": [],
   "source": [
    "a = glob.glob(\"/glade/campaign/cisl/aiml/ptype/ptype_case_studies/kentucky/rap/20220223/*/*.nc\")\n",
    "\n",
    "files = a"
   ]
  },
  {
   "cell_type": "code",
   "execution_count": null,
   "id": "6ed1c25a-6ab1-4f5f-94c7-c41677d3643d",
   "metadata": {},
   "outputs": [],
   "source": [
    "%%time\n",
    "ds = xr.open_mfdataset(files, parallel=True, engine='netcdf4', \n",
    "                       decode_cf=False, concat_dim='time', combine='nested', \n",
    "                       chunks={'time':1, 'heightAboveGround': 21, 'y':337, 'x': 451, 'isobaricInhPa': 37})"
   ]
  },
  {
   "cell_type": "code",
   "execution_count": null,
   "id": "47862b98-2a18-4ee8-a3d0-95793bd47bd2",
   "metadata": {},
   "outputs": [],
   "source": []
  },
  {
   "cell_type": "code",
   "execution_count": 12,
   "id": "f3b3d133-4f09-4f32-8651-a1c068711346",
   "metadata": {},
   "outputs": [],
   "source": []
  },
  {
   "cell_type": "code",
   "execution_count": null,
   "id": "c8f201ed-a42d-4306-af9d-6c1ab2510877",
   "metadata": {},
   "outputs": [],
   "source": []
  }
 ],
 "metadata": {
  "kernelspec": {
   "display_name": "Python [conda env:ptype]",
   "language": "python",
   "name": "conda-env-ptype-py"
  },
  "language_info": {
   "codemirror_mode": {
    "name": "ipython",
    "version": 3
   },
   "file_extension": ".py",
   "mimetype": "text/x-python",
   "name": "python",
   "nbconvert_exporter": "python",
   "pygments_lexer": "ipython3",
   "version": "3.10.11"
  }
 },
 "nbformat": 4,
 "nbformat_minor": 5
}
